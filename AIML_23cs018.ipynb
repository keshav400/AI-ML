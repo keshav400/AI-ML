{
  "cells": [
    {
      "cell_type": "code",
      "execution_count": null,
      "id": "f4a56ad0-0012-4d6b-88d8-09d03597ba11",
      "metadata": {
        "id": "f4a56ad0-0012-4d6b-88d8-09d03597ba11",
        "outputId": "2b31088e-84de-4a97-bcce-07638760405c"
      },
      "outputs": [
        {
          "name": "stdout",
          "output_type": "stream",
          "text": [
            "Requirement already satisfied: numpy in c:\\users\\cs lab 4-29\\appdata\\local\\programs\\python\\python313\\lib\\site-packages (2.3.1)\n"
          ]
        }
      ],
      "source": [
        "!pip install numpy\n"
      ]
    },
    {
      "cell_type": "code",
      "execution_count": null,
      "id": "4f4fd7c0-dfd6-494c-a141-9406aac6269c",
      "metadata": {
        "id": "4f4fd7c0-dfd6-494c-a141-9406aac6269c",
        "outputId": "14fe9c07-0384-4f9c-fdd8-0d89771231d4"
      },
      "outputs": [
        {
          "name": "stderr",
          "output_type": "stream",
          "text": [
            "'conda' is not recognized as an internal or external command,\n",
            "operable program or batch file.\n"
          ]
        }
      ],
      "source": [
        "!conda install numpy -y\n"
      ]
    },
    {
      "cell_type": "code",
      "execution_count": null,
      "id": "f7b13bdc-f8af-4696-be25-28972a2e94f7",
      "metadata": {
        "id": "f7b13bdc-f8af-4696-be25-28972a2e94f7"
      },
      "outputs": [],
      "source": [
        "import numpy as np"
      ]
    },
    {
      "cell_type": "code",
      "execution_count": null,
      "id": "32651d35-c694-4428-bdbd-2809e0f176a0",
      "metadata": {
        "id": "32651d35-c694-4428-bdbd-2809e0f176a0",
        "outputId": "adebf9c6-f8eb-45ca-9a70-1f66bb67cbcf"
      },
      "outputs": [
        {
          "name": "stdout",
          "output_type": "stream",
          "text": [
            "Array a: [1 2 3 4 5]\n",
            "Array b: [10 20 30 40 50]\n",
            "Sum: [11 22 33 44 55]\n",
            "Difference: [ 9 18 27 36 45]\n",
            "Product: [ 10  40  90 160 250]\n",
            "Mean of a: 3.0\n",
            "Max of b: 50\n",
            "Min of b: 10\n"
          ]
        }
      ],
      "source": [
        "a = np.array([1, 2, 3, 4, 5])\n",
        "b = np.array([10, 20, 30, 40, 50])\n",
        "sum_array = a + b\n",
        "diff_array = b - a\n",
        "product_array = a * b\n",
        "mean_a = np.mean(a)\n",
        "max_b = np.max(b)\n",
        "min_b = np.min(b)\n",
        "# Display results\n",
        "print(\"Array a:\", a)\n",
        "print(\"Array b:\", b)\n",
        "print(\"Sum:\", sum_array)\n",
        "print(\"Difference:\", diff_array)\n",
        "print(\"Product:\", product_array)\n",
        "print(\"Mean of a:\", mean_a)\n",
        "print(\"Max of b:\", max_b)\n",
        "print(\"Min of b:\", min_b)"
      ]
    },
    {
      "cell_type": "code",
      "execution_count": null,
      "id": "c368be6c-fe5f-4eeb-b1db-90c2c1968e17",
      "metadata": {
        "id": "c368be6c-fe5f-4eeb-b1db-90c2c1968e17",
        "outputId": "62cda4c5-e7a8-42ab-d917-a59f48627836"
      },
      "outputs": [
        {
          "name": "stdout",
          "output_type": "stream",
          "text": [
            "Element at (0, 1): 2\n",
            "Second row: [4 5 6]\n",
            "[[1 2 3]\n",
            " [4 5 6]]\n"
          ]
        }
      ],
      "source": [
        "import numpy as np\n",
        "# Create a 2D array\n",
        "arr = np.array([[1, 2, 3], [4, 5, 6]])\n",
        "# Access elements\n",
        "print(\"Element at (0, 1):\", arr[0, 1])\n",
        "print(\"Second row:\", arr[1])\n",
        "print(arr)"
      ]
    },
    {
      "cell_type": "code",
      "execution_count": null,
      "id": "86a1ebce-cc6d-4fe1-b195-cc9105b0c411",
      "metadata": {
        "id": "86a1ebce-cc6d-4fe1-b195-cc9105b0c411",
        "outputId": "648956db-5953-4176-c16b-f896c7972bdc"
      },
      "outputs": [
        {
          "name": "stdout",
          "output_type": "stream",
          "text": [
            "Sum: [ 6 12 18]\n"
          ]
        }
      ],
      "source": [
        "a = np.array([5, 10, 15])\n",
        "b = np.array([1, 2, 3])\n",
        "# Add arrays\n",
        "result = a + b\n",
        "print(\"Sum:\", result)"
      ]
    },
    {
      "cell_type": "code",
      "execution_count": null,
      "id": "b8471126-94a8-48dc-8396-ac75e7891b9e",
      "metadata": {
        "id": "b8471126-94a8-48dc-8396-ac75e7891b9e",
        "outputId": "7c9c863b-dc3e-4670-d8ac-2bc817d36422"
      },
      "outputs": [
        {
          "name": "stdout",
          "output_type": "stream",
          "text": [
            "Random Array: [52 54 96 86 74 35 69 56 28 44]\n",
            "Maximum: 96\n",
            "Minimum: 28\n"
          ]
        }
      ],
      "source": [
        "import numpy as np\n",
        "rand_array = np.random.randint(1, 100, size=10)\n",
        "print(\"Random Array:\", rand_array)\n",
        "print(\"Maximum:\", np.max(rand_array))\n",
        "print(\"Minimum:\", np.min(rand_array))"
      ]
    },
    {
      "cell_type": "code",
      "execution_count": null,
      "id": "551aa889-4dfa-4c24-bd56-0207ee8af902",
      "metadata": {
        "id": "551aa889-4dfa-4c24-bd56-0207ee8af902",
        "outputId": "f8356954-fc95-47a6-c629-87158d7dc06f"
      },
      "outputs": [
        {
          "name": "stdout",
          "output_type": "stream",
          "text": [
            "Reshaped (2x3):\n",
            " [[1 2 3]\n",
            " [4 5 6]]\n",
            "Flattened: [1 2 3 4 5 6]\n"
          ]
        }
      ],
      "source": [
        "import numpy as np\n",
        "arr = np.array([1, 2, 3, 4, 5, 6])\n",
        "# Reshape to 2x3 matrix\n",
        "reshaped = arr.reshape(2, 3)\n",
        "print(\"Reshaped (2x3):\\n\", reshaped)\n",
        "# Flatten back to 1D\n",
        "flattened = reshaped.flatten()\n",
        "print(\"Flattened:\", flattened)"
      ]
    },
    {
      "cell_type": "code",
      "execution_count": null,
      "id": "655505b0-18f6-42bf-8077-93766e149d65",
      "metadata": {
        "id": "655505b0-18f6-42bf-8077-93766e149d65",
        "outputId": "40c7ebda-8415-45fb-8d04-d051a281ce5c"
      },
      "outputs": [
        {
          "name": "stdout",
          "output_type": "stream",
          "text": [
            "Elements > 25: [30 40 50]\n"
          ]
        }
      ],
      "source": [
        "import numpy as np\n",
        "arr = np.array([10, 20, 30, 40, 50])\n",
        "# Condition: elements > 25\n",
        "filtered = arr[arr > 25]\n",
        "print(\"Elements > 25:\", filtered)\n"
      ]
    },
    {
      "cell_type": "code",
      "execution_count": null,
      "id": "6323496d-3399-4231-9d9c-11f1c1ede3f5",
      "metadata": {
        "id": "6323496d-3399-4231-9d9c-11f1c1ede3f5",
        "outputId": "1b57a78c-1bdb-4157-d055-a76a64515142"
      },
      "outputs": [
        {
          "name": "stdout",
          "output_type": "stream",
          "text": [
            "Matrix A:\n",
            " [[1 2]\n",
            " [3 4]]\n",
            "Matrix B:\n",
            " [[5 6]\n",
            " [7 8]]\n",
            "A x B:\n",
            " [[19 22]\n",
            " [43 50]]\n"
          ]
        }
      ],
      "source": [
        "import numpy as np\n",
        "A = np.array([[1, 2], [3, 4]])\n",
        "B = np.array([[5, 6], [7, 8]])\n",
        "# Matrix multiplication\n",
        "result = np.dot(A, B)\n",
        "print(\"Matrix A:\\n\", A)\n",
        "print(\"Matrix B:\\n\", B)\n",
        "print(\"A x B:\\n\", result)"
      ]
    },
    {
      "cell_type": "code",
      "execution_count": null,
      "id": "fcb0b827-852d-41fa-a4b3-153c5e9743d7",
      "metadata": {
        "id": "fcb0b827-852d-41fa-a4b3-153c5e9743d7",
        "outputId": "56df6e8a-5c85-452e-b182-a70e4b7f5022"
      },
      "outputs": [
        {
          "name": "stdout",
          "output_type": "stream",
          "text": [
            "Mean: 3.5\n",
            "Median: 3.5\n",
            "Standard Deviation: 1.707825127659933\n"
          ]
        }
      ],
      "source": [
        "import numpy as np\n",
        "data = np.array([1, 2, 3, 4, 5, 6])\n",
        "print(\"Mean:\", np.mean(data))\n",
        "print(\"Median:\", np.median(data))\n",
        "print(\"Standard Deviation:\", np.std(data))"
      ]
    },
    {
      "cell_type": "code",
      "execution_count": null,
      "id": "fb8eda23-3f5f-4d9a-ae30-7eb425de97fa",
      "metadata": {
        "id": "fb8eda23-3f5f-4d9a-ae30-7eb425de97fa",
        "outputId": "9775bf19-1333-4e90-f42b-6e0d80c1a4fb"
      },
      "outputs": [
        {
          "name": "stdout",
          "output_type": "stream",
          "text": [
            "Arange: [0 1 2 3 4 5 6 7 8 9]\n",
            "Linspace: [0.         0.6981317  1.3962634  2.0943951  2.7925268  3.4906585\n",
            " 4.1887902  4.88692191 5.58505361 6.28318531]\n"
          ]
        }
      ],
      "source": [
        "import numpy as np\n",
        "a = np.arange(0, 10)\n",
        "b = np.linspace(0, 2 * np.pi, 10)\n",
        "print(\"Arange:\", a)\n",
        "print(\"Linspace:\", b)"
      ]
    },
    {
      "cell_type": "code",
      "execution_count": null,
      "id": "e3357b3c-3d05-43f0-bdb5-960fd059b23f",
      "metadata": {
        "id": "e3357b3c-3d05-43f0-bdb5-960fd059b23f",
        "outputId": "e1a48b5d-e046-4cb9-e2de-885a1a2f2a88"
      },
      "outputs": [
        {
          "name": "stdout",
          "output_type": "stream",
          "text": [
            "Original:\n",
            " [[1 2 3]\n",
            " [4 5 6]]\n",
            "Transposed:\n",
            " [[1 4]\n",
            " [2 5]\n",
            " [3 6]]\n"
          ]
        }
      ],
      "source": [
        "import numpy as np\n",
        "matrix = np.array([[1, 2, 3], [4, 5, 6]])\n",
        "transpose = matrix.T\n",
        "print(\"Original:\\n\", matrix)\n",
        "print(\"Transposed:\\n\", transpose)"
      ]
    },
    {
      "cell_type": "code",
      "execution_count": null,
      "id": "05706930-95b7-4966-aff3-9ac1a65a0404",
      "metadata": {
        "id": "05706930-95b7-4966-aff3-9ac1a65a0404",
        "outputId": "08a3866d-8827-4e10-80a4-f003b0da959c"
      },
      "outputs": [
        {
          "name": "stdout",
          "output_type": "stream",
          "text": [
            "x values: [0.         1.57079633 3.14159265]\n",
            "sin(x): [0.0000000e+00 1.0000000e+00 1.2246468e-16]\n"
          ]
        }
      ],
      "source": [
        "x = np.array([0, np.pi/2, np.pi])\n",
        "y = np.sin(x)\n",
        "print(\"x values:\", x)\n",
        "print(\"sin(x):\", y)"
      ]
    },
    {
      "cell_type": "code",
      "execution_count": null,
      "id": "dc3fe501-7f2f-47ef-986e-5ebc798ce59c",
      "metadata": {
        "id": "dc3fe501-7f2f-47ef-986e-5ebc798ce59c",
        "outputId": "d1ee30e3-2417-420d-89f2-07c72992da47"
      },
      "outputs": [
        {
          "name": "stdout",
          "output_type": "stream",
          "text": [
            "      Name  Age  Score\n",
            "0    Alice   25     85\n",
            "1      Bob   30     90\n",
            "2  Charlie   22     95\n"
          ]
        }
      ],
      "source": [
        "import pandas as pd\n",
        "data = {\n",
        " 'Name': ['Alice', 'Bob', 'Charlie'],\n",
        " 'Age': [25, 30, 22],\n",
        " 'Score': [85, 90, 95]\n",
        "}\n",
        "df = pd.DataFrame(data)\n",
        "print(df)"
      ]
    },
    {
      "cell_type": "code",
      "execution_count": null,
      "id": "561d24ea-7c32-43d2-9cfa-5eddde84933e",
      "metadata": {
        "id": "561d24ea-7c32-43d2-9cfa-5eddde84933e"
      },
      "outputs": [],
      "source": [
        "import pandas as pd\n"
      ]
    },
    {
      "cell_type": "code",
      "execution_count": null,
      "id": "b381ee78-cec4-4224-9f17-04226646e0de",
      "metadata": {
        "id": "b381ee78-cec4-4224-9f17-04226646e0de",
        "outputId": "ece8efe4-21e0-45fb-e278-8b174281cb0b"
      },
      "outputs": [
        {
          "name": "stdout",
          "output_type": "stream",
          "text": [
            "  keshav Unnamed: 1 Unnamed: 2\n",
            "0    NaN        NaN        NaN\n",
            "1   name      class     rollno\n",
            "2   basu        8th          1\n",
            "3   ashu        9th          2\n",
            "4  pakku       10th          3\n",
            "<class 'pandas.core.frame.DataFrame'>\n",
            "RangeIndex: 5 entries, 0 to 4\n",
            "Data columns (total 3 columns):\n",
            " #   Column      Non-Null Count  Dtype \n",
            "---  ------      --------------  ----- \n",
            " 0   keshav      4 non-null      object\n",
            " 1   Unnamed: 1  4 non-null      object\n",
            " 2   Unnamed: 2  4 non-null      object\n",
            "dtypes: object(3)\n",
            "memory usage: 252.0+ bytes\n",
            "None\n"
          ]
        }
      ],
      "source": [
        "df = pd.read_csv(\"D:/abc/keshav18.csv\")\n",
        "print(df.head()) # First 5 rows\n",
        "print(df.info()) # Data types and non-null counts\n",
        "#print(df.describe())"
      ]
    },
    {
      "cell_type": "code",
      "execution_count": null,
      "id": "e28f4202-0396-4406-b749-cf58843704a8",
      "metadata": {
        "id": "e28f4202-0396-4406-b749-cf58843704a8",
        "outputId": "5696b3ef-fa7b-447c-fcc4-6a9a7683616a"
      },
      "outputs": [
        {
          "name": "stdout",
          "output_type": "stream",
          "text": [
            "   Name  Age\n",
            "1  Ravi   29\n",
            "2  Neha   26\n"
          ]
        }
      ],
      "source": [
        "import pandas as pd\n",
        "data = {\n",
        " 'Name': ['Asha', 'Ravi', 'Neha'],\n",
        " 'Age': [24, 29, 26]\n",
        "}\n",
        "df = pd.DataFrame(data)\n",
        "# Filter\n",
        "filtered_df = df[df['Age'] > 25]\n",
        "print(filtered_df)"
      ]
    },
    {
      "cell_type": "code",
      "execution_count": null,
      "id": "d3ea246d-ebe7-4b42-902b-4af3baf69329",
      "metadata": {
        "id": "d3ea246d-ebe7-4b42-902b-4af3baf69329",
        "outputId": "1b116238-1417-49aa-9b89-64abe4ff0113"
      },
      "outputs": [
        {
          "name": "stdout",
          "output_type": "stream",
          "text": [
            "            Marks\n",
            "Department       \n",
            "CS           87.5\n",
            "IT           80.0\n"
          ]
        }
      ],
      "source": [
        "import pandas as pd\n",
        "data = {\n",
        " 'Department': ['CS', 'CS', 'IT', 'IT'],\n",
        " 'Marks': [85, 90, 78, 82]\n",
        "}\n",
        "df = pd.DataFrame(data)\n",
        "# Group by department and calculate average marks\n",
        "grouped = df.groupby('Department').mean()\n",
        "print(grouped)"
      ]
    },
    {
      "cell_type": "code",
      "execution_count": null,
      "id": "0c032542-e240-49bc-83c0-a6f98a72a02a",
      "metadata": {
        "id": "0c032542-e240-49bc-83c0-a6f98a72a02a",
        "outputId": "fd5d2f40-7251-4fdd-a431-9dcd7f36fa79"
      },
      "outputs": [
        {
          "name": "stdout",
          "output_type": "stream",
          "text": [
            "   Math  Science  Average\n",
            "0    90       95     92.5\n",
            "1    80       75     77.5\n",
            "2    85       88     86.5\n"
          ]
        }
      ],
      "source": [
        "import pandas as pd\n",
        "data = {\n",
        " 'Math': [90, 80, 85],\n",
        " 'Science': [95, 75, 88]\n",
        "}\n",
        "df = pd.DataFrame(data)\n",
        "df['Average'] = (df['Math'] + df['Science']) / 2\n",
        "print(df)\n",
        "# Save to\n",
        "df.to_csv(\"averages.csv\", index=False)"
      ]
    },
    {
      "cell_type": "code",
      "execution_count": null,
      "id": "a8ac1d08-ab57-4fd5-a2db-7449d3fb3718",
      "metadata": {
        "id": "a8ac1d08-ab57-4fd5-a2db-7449d3fb3718",
        "outputId": "dd86f3fe-5e8e-4f05-b10b-22c59a3cbc37"
      },
      "outputs": [
        {
          "data": {
            "image/png": "[encoded data removed]",
            "text/plain": [
              "<Figure size 640x480 with 1 Axes>"
            ]
          },
          "metadata": {},
          "output_type": "display_data"
        }
      ],
      "source": [
        "import matplotlib.pyplot as plt\n",
        "x = [1, 2, 3, 4, 5]\n",
        "y = [10, 12, 15, 18, 20]\n",
        "plt.plot(x, y)\n",
        "plt.title(\"Simple Line Graph\")\n",
        "plt.xlabel(\"X values\")\n",
        "plt.ylabel(\"Y values\")\n",
        "plt.show()"
      ]
    },
    {
      "cell_type": "code",
      "execution_count": null,
      "id": "a06e0e19-d499-4813-87aa-ed9e1bd0706d",
      "metadata": {
        "id": "a06e0e19-d499-4813-87aa-ed9e1bd0706d",
        "outputId": "161dac46-7d72-4722-f2d9-3848d5403c75"
      },
      "outputs": [
        {
          "data": {
            "image/png": "[encoded data removed]",
            "text/plain": [
              "<Figure size 640x480 with 1 Axes>"
            ]
          },
          "metadata": {},
          "output_type": "display_data"
        }
      ],
      "source": [
        "import matplotlib.pyplot as plt\n",
        "students = ['Asha', 'Ravi', 'Neha']\n",
        "scores = [85, 90, 78]\n",
        "plt.bar(students, scores, color='skyblue')\n",
        "plt.title(\"Student Scores\")\n",
        "plt.xlabel(\"Students\")\n",
        "plt.ylabel(\"Marks\")\n",
        "plt.show()"
      ]
    },
    {
      "cell_type": "code",
      "execution_count": null,
      "id": "66981a41-5e8d-4977-81b3-9a63f7a467b7",
      "metadata": {
        "id": "66981a41-5e8d-4977-81b3-9a63f7a467b7",
        "outputId": "21141b27-554a-45c3-b38e-23b774714fcf"
      },
      "outputs": [
        {
          "data": {
            "image/png": "[encoded data removed]",
            "text/plain": [
              "<Figure size 640x480 with 1 Axes>"
            ]
          },
          "metadata": {},
          "output_type": "display_data"
        }
      ],
      "source": [
        "import matplotlib.pyplot as plt\n",
        "labels = ['Python', 'Java', 'C++', 'C']\n",
        "sizes = [40, 25, 20, 15]\n",
        "plt.pie(sizes, labels=labels, autopct='%1.1f%%', startangle=140)\n",
        "plt.title(\"Programming Language Usage\")\n",
        "plt.axis('equal') # Make it a circle\n",
        "plt.show()"
      ]
    },
    {
      "cell_type": "code",
      "execution_count": null,
      "id": "661f2c05-460f-4642-b716-f0aa2c6d3fd3",
      "metadata": {
        "id": "661f2c05-460f-4642-b716-f0aa2c6d3fd3",
        "outputId": "69afa95e-38e2-4ad6-fb44-a946b9a61e97"
      },
      "outputs": [
        {
          "data": {
            "image/png": "[encoded data removed]",
            "text/plain": [
              "<Figure size 640x480 with 1 Axes>"
            ]
          },
          "metadata": {},
          "output_type": "display_data"
        }
      ],
      "source": [
        "import matplotlib.pyplot as plt\n",
        "ages = [18, 22, 21, 25, 30, 30, 27, 25, 22, 19]\n",
        "plt.hist(ages, bins=5, color='green')\n",
        "plt.title(\"Age Distribution\")\n",
        "plt.xlabel(\"Age\")\n",
        "plt.ylabel(\"Frequency\")\n",
        "plt.show()"
      ]
    },
    {
      "cell_type": "code",
      "execution_count": null,
      "id": "cb5f482b-02f8-4013-af52-9c9cf66a8b21",
      "metadata": {
        "id": "cb5f482b-02f8-4013-af52-9c9cf66a8b21",
        "outputId": "ef39b3b2-7701-4627-c502-84a1626ea712"
      },
      "outputs": [
        {
          "data": {
            "image/png": "[encoded data removed]",
            "text/plain": [
              "<Figure size 640x480 with 1 Axes>"
            ]
          },
          "metadata": {},
          "output_type": "display_data"
        }
      ],
      "source": [
        "import matplotlib.pyplot as plt\n",
        "x = [1, 2, 3, 4, 5]\n",
        "y = [5, 7, 6, 8, 10]\n",
        "plt.scatter(x, y, color='red')\n",
        "plt.title(\"Scatter Plot Example\")\n",
        "plt.xlabel(\"X values\")\n",
        "plt.ylabel(\"Y values\")\n",
        "plt.show()"
      ]
    },
    {
      "cell_type": "code",
      "execution_count": null,
      "id": "b74e3d9d-b6f8-4557-a274-f1ad72abdd00",
      "metadata": {
        "id": "b74e3d9d-b6f8-4557-a274-f1ad72abdd00",
        "outputId": "500f4aa7-a221-404b-99fa-b7640dd9c6f3"
      },
      "outputs": [
        {
          "name": "stdout",
          "output_type": "stream",
          "text": [
            "8\n"
          ]
        }
      ],
      "source": [
        "#1\n",
        "add = lambda x, y: x + y\n",
        "print(add(5, 3))\n"
      ]
    },
    {
      "cell_type": "code",
      "execution_count": null,
      "id": "cebd72f5-c55f-43ce-9226-deb5f132e660",
      "metadata": {
        "id": "cebd72f5-c55f-43ce-9226-deb5f132e660",
        "outputId": "d7f1b682-f5df-459e-e1b2-72074cb7bd61"
      },
      "outputs": [
        {
          "name": "stdout",
          "output_type": "stream",
          "text": [
            "16\n"
          ]
        }
      ],
      "source": [
        "\n",
        "#2\n",
        "square = lambda x: x ** 2\n",
        "print(square(4))\n"
      ]
    },
    {
      "cell_type": "code",
      "execution_count": null,
      "id": "08bdbb4c-5375-4fe8-a4fb-11a012800167",
      "metadata": {
        "id": "08bdbb4c-5375-4fe8-a4fb-11a012800167",
        "outputId": "adba603a-8bb7-419b-ea7f-6ea66711afc8"
      },
      "outputs": [
        {
          "name": "stdout",
          "output_type": "stream",
          "text": [
            "[2, 4, 6]\n"
          ]
        }
      ],
      "source": [
        "#3\n",
        "numbers = [1, 2, 3, 4, 5, 6]\n",
        "even_numbers = list(filter(lambda x: x % 2 == 0, numbers))\n",
        "print(even_numbers)\n",
        "\n",
        "\n",
        "\n",
        "\n"
      ]
    },
    {
      "cell_type": "code",
      "execution_count": null,
      "id": "ef8e1bfd-206e-4b0f-8d73-669a4dc30888",
      "metadata": {
        "colab": {
          "base_uri": "https://localhost:8080/"
        },
        "id": "ef8e1bfd-206e-4b0f-8d73-669a4dc30888",
        "outputId": "c591841b-f3fc-4514-9b4c-e7d0b145da8a"
      },
      "outputs": [
        {
          "name": "stdout",
          "output_type": "stream",
          "text": [
            "[(1, 'apple'), (3, 'banana'), (2, 'cherry')]\n"
          ]
        }
      ],
      "source": [
        "\n",
        "data = [(1, 'apple'), (3, 'banana'), (2, 'cherry')]\n",
        "sorted_data = sorted(data, key=lambda x: x[1])\n",
        "print(sorted_data)"
      ]
    },
    {
      "cell_type": "code",
      "execution_count": null,
      "id": "26cd4715-7894-4cdb-9e9c-e09dd4bc428a",
      "metadata": {
        "id": "26cd4715-7894-4cdb-9e9c-e09dd4bc428a",
        "outputId": "b3a3d774-f663-43c5-835d-07a8bd7e1da5"
      },
      "outputs": [
        {
          "name": "stdout",
          "output_type": "stream",
          "text": [
            "24\n"
          ]
        }
      ],
      "source": [
        "multiply = lambda x, y, z: x * y * z\n",
        "print(multiply(2, 3, 4))\n"
      ]
    },
    {
      "cell_type": "code",
      "execution_count": null,
      "id": "b3cdd718-c090-456b-8410-af7fc44506b5",
      "metadata": {
        "id": "b3cdd718-c090-456b-8410-af7fc44506b5",
        "outputId": "65e087fd-67a7-44f5-aa62-1c9f980f0cf8"
      },
      "outputs": [
        {
          "name": "stdout",
          "output_type": "stream",
          "text": [
            "[2, 4, 6, 8, 10]\n"
          ]
        }
      ],
      "source": [
        "numbers = [1, 2, 3, 4, 5]\n",
        "doubled = list(map(lambda x: x * 2, numbers))\n",
        "print(doubled)"
      ]
    },
    {
      "cell_type": "code",
      "execution_count": null,
      "id": "e4b11110-bf93-45fe-88fe-9bfe9e2e2445",
      "metadata": {
        "id": "e4b11110-bf93-45fe-88fe-9bfe9e2e2445",
        "outputId": "f58d0334-d12d-4fab-a800-fd3a13f5f675"
      },
      "outputs": [
        {
          "name": "stdout",
          "output_type": "stream",
          "text": [
            "[15, 25]\n"
          ]
        }
      ],
      "source": [
        "numbers = [10, 15, 20, 25, 30]\n",
        "odds = list(filter(lambda x: x % 2 != 0, numbers))\n",
        "print(odds)"
      ]
    },
    {
      "cell_type": "code",
      "execution_count": null,
      "id": "34c259e7-ec75-4665-9b1f-02abcc819f84",
      "metadata": {
        "colab": {
          "base_uri": "https://localhost:8080/"
        },
        "id": "34c259e7-ec75-4665-9b1f-02abcc819f84",
        "outputId": "a1b27897-446a-446f-a5ae-2cc292ce4a6d"
      },
      "outputs": [
        {
          "name": "stdout",
          "output_type": "stream",
          "text": [
            "[{'name': 'Charlie', 'score': 78}, {'name': 'Alice', 'score': 85}, {'name': 'Bob', 'score': 92}]\n"
          ]
        }
      ],
      "source": [
        "students = [\n",
        "    {\"name\": \"Alice\", \"score\": 85},\n",
        "    {\"name\": \"Bob\", \"score\": 92},\n",
        "    {\"name\": \"Charlie\", \"score\": 78}\n",
        "]\n",
        "sorted_students = sorted(students, key=lambda student: student['score'])\n",
        "print(sorted_students)"
      ]
    },
    {
      "cell_type": "code",
      "execution_count": null,
      "id": "644a36a9-8e16-4dc7-92b1-2275a8ad8501",
      "metadata": {
        "id": "644a36a9-8e16-4dc7-92b1-2275a8ad8501",
        "outputId": "68eff71f-bbce-4d11-eeb4-70793bb139d3"
      },
      "outputs": [
        {
          "name": "stdout",
          "output_type": "stream",
          "text": [
            "10\n",
            "15\n"
          ]
        }
      ],
      "source": [
        "def make_multiplier(n):\n",
        "    return lambda x: x * n\n",
        "\n",
        "double = make_multiplier(2)\n",
        "triple = make_multiplier(3)\n",
        "\n",
        "print(double(5))\n",
        "print(triple(5))"
      ]
    },
    {
      "cell_type": "code",
      "execution_count": null,
      "id": "7e5f5bb4-6f56-4a68-90f7-d56608288ec4",
      "metadata": {
        "id": "7e5f5bb4-6f56-4a68-90f7-d56608288ec4",
        "outputId": "e842e51c-bfaa-488c-c5c1-e09171df322f"
      },
      "outputs": [
        {
          "name": "stdout",
          "output_type": "stream",
          "text": [
            "Even\n",
            "Odd\n"
          ]
        }
      ],
      "source": [
        "\n",
        "check_even = lambda x: \"Even\" if x % 2 == 0 else \"Odd\"\n",
        "print(check_even(4))\n",
        "print(check_even(7))  #"
      ]
    },
    {
      "cell_type": "code",
      "execution_count": null,
      "id": "2b6ced51-3064-434c-a022-595a8503ecc8",
      "metadata": {
        "id": "2b6ced51-3064-434c-a022-595a8503ecc8",
        "outputId": "6d3dfdad-85cc-41b2-9ea9-36660dd836b6"
      },
      "outputs": [
        {
          "name": "stdout",
          "output_type": "stream",
          "text": [
            "24\n"
          ]
        }
      ],
      "source": [
        "from functools import reduce\n",
        "\n",
        "numbers = [1, 2, 3, 4]\n",
        "product = reduce(lambda x, y: x * y, numbers)\n",
        "print(product)  # Output: 24\n"
      ]
    },
    {
      "cell_type": "code",
      "execution_count": null,
      "id": "46e383cd-e5ea-40f5-bdc2-7a3cb0b018df",
      "metadata": {
        "id": "46e383cd-e5ea-40f5-bdc2-7a3cb0b018df",
        "outputId": "70776d01-dada-4ea9-9dd7-e141df9772ee"
      },
      "outputs": [
        {
          "name": "stdout",
          "output_type": "stream",
          "text": [
            "['John', 'Doe', 'Alice']\n"
          ]
        }
      ],
      "source": [
        "names = [\"john\", \"DOE\", \"ALICE\"]\n",
        "capitalized = list(map(lambda name: name.capitalize(), names))\n",
        "print(capitalized)\n"
      ]
    },
    {
      "cell_type": "code",
      "execution_count": null,
      "id": "91b47219-bd97-4c91-a438-b2115b997f84",
      "metadata": {
        "id": "91b47219-bd97-4c91-a438-b2115b997f84",
        "outputId": "9f57b7a7-7406-4c95-c3e5-295e2c2fcbb8"
      },
      "outputs": [
        {
          "name": "stdout",
          "output_type": "stream",
          "text": [
            "['example.com', 'test.com']\n",
            "['example.com', 'test.com']\n"
          ]
        }
      ],
      "source": [
        "emails = [\"alice@example.com\", \"bob@test.com\"]\n",
        "domains = list(map(lambda email: email.split('@')[1], emails))\n",
        "print(domains)\n",
        "\n",
        "emails = [\"alice@example.com\", \"bob@test.com\"]\n",
        "domains = list(map(lambda email: email.split('@')[1], emails))\n",
        "print(domains)\n"
      ]
    },
    {
      "cell_type": "code",
      "execution_count": null,
      "id": "c973d68d-40dc-4a17-8b9a-111677d2ddb3",
      "metadata": {
        "id": "c973d68d-40dc-4a17-8b9a-111677d2ddb3",
        "outputId": "f00d0a94-7292-4efa-ab2a-58876151386f"
      },
      "outputs": [
        {
          "name": "stdout",
          "output_type": "stream",
          "text": [
            "True\n",
            "True\n"
          ]
        }
      ],
      "source": [
        "numbers = [2, 4, 6, 8]\n",
        "\n",
        "\n",
        "all_even = all(map(lambda x: x % 2 == 0, numbers))\n",
        "print(all_even)\n",
        "\n",
        "any_gt_5 = any(map(lambda x: x > 5, numbers))\n",
        "print(any_gt_5)\n",
        "\n"
      ]
    },
    {
      "cell_type": "code",
      "execution_count": null,
      "id": "5faa1be1-283e-4b6d-b840-5c1615ffccab",
      "metadata": {
        "id": "5faa1be1-283e-4b6d-b840-5c1615ffccab",
        "outputId": "24303713-47cb-4e67-d051-7aa472cd3da8"
      },
      "outputs": [
        {
          "name": "stdout",
          "output_type": "stream",
          "text": [
            "['fig', 'apple', 'banana', 'cherry']\n"
          ]
        }
      ],
      "source": [
        "words = [\"apple\", \"banana\", \"cherry\", \"fig\"]\n",
        "sorted_words = sorted(words, key=lambda word: len(word))\n",
        "print(sorted_words)\n"
      ]
    },
    {
      "cell_type": "code",
      "execution_count": null,
      "id": "cd98599b-1e97-4c43-9ec1-a231630ee3ee",
      "metadata": {
        "id": "cd98599b-1e97-4c43-9ec1-a231630ee3ee",
        "outputId": "49fd5fe3-b8c0-4372-dd22-879e379aa9f1"
      },
      "outputs": [
        {
          "name": "stdout",
          "output_type": "stream",
          "text": [
            "adbmal snoitcnuf era lufrewop\n"
          ]
        }
      ],
      "source": [
        "sentence = \"lambda functions are powerful\"\n",
        "reversed_words = list(map(lambda word: word[::-1], sentence.split()))\n",
        "print(\" \".join(reversed_words))\n",
        "\n"
      ]
    },
    {
      "cell_type": "code",
      "execution_count": null,
      "id": "2924134e-0274-44bc-9974-154217ab408e",
      "metadata": {
        "id": "2924134e-0274-44bc-9974-154217ab408e",
        "outputId": "0a07ad57-5685-4ebb-b2cf-033c22cda619"
      },
      "outputs": [
        {
          "name": "stdout",
          "output_type": "stream",
          "text": [
            "['Charlie Brown', 'Alice Johnson', 'Bob Smith']\n"
          ]
        }
      ],
      "source": [
        "people = [\"Alice Johnson\", \"Bob Smith\", \"Charlie Brown\"]\n",
        "sorted_by_last = sorted(people, key=lambda name: name.split()[-1])\n",
        "print(sorted_by_last)\n"
      ]
    },
    {
      "cell_type": "code",
      "execution_count": null,
      "id": "4b76c1a1-0c98-489d-a8bb-410f43f89b36",
      "metadata": {
        "id": "4b76c1a1-0c98-489d-a8bb-410f43f89b36",
        "outputId": "3666c33c-3a45-4dd0-b8c6-f69cb85cd231"
      },
      "outputs": [
        {
          "name": "stdout",
          "output_type": "stream",
          "text": [
            "15\n",
            "Error\n"
          ]
        }
      ],
      "source": [
        "operations = {\n",
        "    'add': lambda x, y: x + y,\n",
        "    'sub': lambda x, y: x - y,\n",
        "    'mul': lambda x, y: x * y,\n",
        "    'div': lambda x, y: x / y if y != 0 else 'Error'\n",
        "}\n",
        "\n",
        "print(operations['add'](10, 5))\n",
        "print(operations['div'](10, 0))\n"
      ]
    },
    {
      "cell_type": "code",
      "execution_count": null,
      "id": "9b47b84d-40d2-4872-9f63-bdb9c577bb29",
      "metadata": {
        "id": "9b47b84d-40d2-4872-9f63-bdb9c577bb29",
        "outputId": "198e29d9-8d85-40eb-8761-2d128f397c7b"
      },
      "outputs": [
        {
          "name": "stdout",
          "output_type": "stream",
          "text": [
            "Even\n",
            "Odd\n"
          ]
        }
      ],
      "source": [
        "check_even_odd = lambda num: \"Even\" if num % 2 == 0 else \"Odd\"\n",
        "print(check_even_odd(4))\n",
        "print(check_even_odd(7))\n"
      ]
    },
    {
      "cell_type": "code",
      "execution_count": null,
      "id": "785ae9aa-e4b1-403d-8813-9328a99a926d",
      "metadata": {
        "id": "785ae9aa-e4b1-403d-8813-9328a99a926d",
        "outputId": "a0673bf7-8d90-4cd3-8ab0-1f428d6fa9ad"
      },
      "outputs": [
        {
          "name": "stdout",
          "output_type": "stream",
          "text": [
            "GEEKS FOR GEEKS\n"
          ]
        }
      ],
      "source": [
        "s1 = 'Geeks for Geeks'\n",
        "\n",
        "s2 = lambda func: func.upper()\n",
        "print(s2(s1))\n"
      ]
    },
    {
      "cell_type": "code",
      "execution_count": null,
      "id": "6d053794-f989-4fb6-987a-351ca3072c0e",
      "metadata": {
        "id": "6d053794-f989-4fb6-987a-351ca3072c0e",
        "outputId": "05d71ac6-4a89-4a78-9910-774857d2a18e"
      },
      "outputs": [
        {
          "name": "stdout",
          "output_type": "stream",
          "text": [
            "Positive\n",
            "Negative\n",
            "Zero\n"
          ]
        }
      ],
      "source": [
        "\n",
        "n = lambda x: \"Positive\" if x > 0 else \"Negative\" if x < 0 else \"Zero\"\n",
        "\n",
        "print(n(5))\n",
        "print(n(-3))\n",
        "print(n(0))\n"
      ]
    },
    {
      "cell_type": "code",
      "execution_count": null,
      "id": "522535fe-7aef-4088-946a-0e709afb7895",
      "metadata": {
        "id": "522535fe-7aef-4088-946a-0e709afb7895",
        "outputId": "6e9c7e99-b4e5-41f3-e9a7-b8b72c7ac48c"
      },
      "outputs": [
        {
          "name": "stdout",
          "output_type": "stream",
          "text": [
            "10\n",
            "20\n",
            "30\n",
            "40\n"
          ]
        }
      ],
      "source": [
        "li = [lambda arg=x: arg * 10 for x in range(1, 5)]\n",
        "for i in li:\n",
        "    print(i())\n"
      ]
    },
    {
      "cell_type": "code",
      "execution_count": null,
      "id": "a780fb55-f60f-4228-a5c8-23f4a9baa20a",
      "metadata": {
        "id": "a780fb55-f60f-4228-a5c8-23f4a9baa20a",
        "outputId": "c0bd943e-a221-47b1-f2a8-378a1e690d9c"
      },
      "outputs": [
        {
          "name": "stdout",
          "output_type": "stream",
          "text": [
            "Even\n",
            "Odd\n"
          ]
        }
      ],
      "source": [
        "\n",
        "check = lambda x: \"Even\" if x % 2 == 0 else \"Odd\"\n",
        "\n",
        "print(check(4))\n",
        "print(check(7))\n"
      ]
    },
    {
      "cell_type": "code",
      "execution_count": null,
      "id": "fda4e3f5-6250-4707-978b-bc113fbad2d9",
      "metadata": {
        "id": "fda4e3f5-6250-4707-978b-bc113fbad2d9",
        "outputId": "bfe33228-eb60-4dd0-8e4b-e74f3e77e304"
      },
      "outputs": [
        {
          "name": "stdout",
          "output_type": "stream",
          "text": [
            "(7, 12)\n"
          ]
        }
      ],
      "source": [
        "\n",
        "calc = lambda x, y: (x + y, x * y)\n",
        "\n",
        "res = calc(3, 4)\n",
        "print(res)\n"
      ]
    },
    {
      "cell_type": "code",
      "execution_count": null,
      "id": "2399f8ee-689e-498f-a705-6568cfb158b4",
      "metadata": {
        "id": "2399f8ee-689e-498f-a705-6568cfb158b4",
        "outputId": "8f656956-c3c8-4a84-9588-98985c7486fc"
      },
      "outputs": [
        {
          "name": "stdout",
          "output_type": "stream",
          "text": [
            "[2, 4, 6]\n"
          ]
        }
      ],
      "source": [
        "\n",
        "n = [1, 2, 3, 4, 5, 6]\n",
        "even = filter(lambda x: x % 2 == 0, n)\n",
        "print(list(even))\n"
      ]
    },
    {
      "cell_type": "code",
      "execution_count": null,
      "id": "5c2a619f-8f35-4dd9-a0c9-20571e73aaba",
      "metadata": {
        "id": "5c2a619f-8f35-4dd9-a0c9-20571e73aaba",
        "outputId": "b15d2e18-07f2-44b5-8a3c-e5fdb4ee1273"
      },
      "outputs": [
        {
          "name": "stdout",
          "output_type": "stream",
          "text": [
            "[2, 4, 6, 8]\n"
          ]
        }
      ],
      "source": [
        "\n",
        "a = [1, 2, 3, 4]\n",
        "b = map(lambda x: x * 2, a)\n",
        "print(list(b))\n"
      ]
    },
    {
      "cell_type": "code",
      "execution_count": null,
      "id": "a223d953-3ece-45c4-90fa-d44235f8c00c",
      "metadata": {
        "colab": {
          "base_uri": "https://localhost:8080/"
        },
        "id": "a223d953-3ece-45c4-90fa-d44235f8c00c",
        "outputId": "fd5a8568-6131-4b01-e58b-7cbc729c024e"
      },
      "outputs": [
        {
          "name": "stdout",
          "output_type": "stream",
          "text": [
            "24\n"
          ]
        }
      ],
      "source": [
        "from functools import reduce\n",
        "\n",
        "\n",
        "a = [1, 2, 3, 4]\n",
        "b = reduce(lambda x, y: x * y, a)\n",
        "print(b)\n"
      ]
    },
    {
      "cell_type": "code",
      "execution_count": null,
      "id": "sXjaH6E4mn9L",
      "metadata": {
        "colab": {
          "base_uri": "https://localhost:8080/"
        },
        "id": "sXjaH6E4mn9L",
        "outputId": "9fbfa357-6e40-4a35-8be1-ca48cb702246"
      },
      "outputs": [
        {
          "name": "stdout",
          "output_type": "stream",
          "text": [
            "Multiply two Series:\n",
            "0     2\n",
            "1    12\n",
            "2    56\n",
            "3    90\n",
            "dtype: int64\n",
            "Divide Series1 by Series2:\n",
            "0    2.000000\n",
            "1    1.333333\n",
            "2    1.142857\n",
            "3    1.111111\n",
            "dtype: float64\n"
          ]
        }
      ],
      "source": [
        "#DATA HANDLING\n",
        "#1\n",
        "import pandas as pd\n",
        "ds1 = pd.Series([2, 4, 8, 10])\n",
        "ds2 = pd.Series([1, 3, 7, 9])\n",
        "print(\"Multiply two Series:\")\n",
        "ds = ds1 * ds2\n",
        "print(ds)\n",
        "print(\"Divide Series1 by Series2:\")\n",
        "ds = ds1 / ds2\n",
        "print(ds)"
      ]
    },
    {
      "cell_type": "code",
      "execution_count": null,
      "id": "Ew04WScJmoP3",
      "metadata": {
        "colab": {
          "base_uri": "https://localhost:8080/"
        },
        "id": "Ew04WScJmoP3",
        "outputId": "8ce50b60-a1a7-4eb5-c698-a9daa4088dfa"
      },
      "outputs": [
        {
          "name": "stdout",
          "output_type": "stream",
          "text": [
            "Original dictionary:\n",
            "{'a': 100, 'b': 200, 'c': 300}\n",
            "Converted series:\n",
            "a    100\n",
            "b    200\n",
            "c    300\n",
            "dtype: int64\n"
          ]
        }
      ],
      "source": [
        "#2\n",
        "import pandas as pd\n",
        "d1 = {'a': 100, 'b': 200, 'c':300}\n",
        "print(\"Original dictionary:\")\n",
        "print(d1)\n",
        "new_series = pd.Series(d1)\n",
        "print(\"Converted series:\")\n",
        "print(new_series)\n"
      ]
    },
    {
      "cell_type": "code",
      "execution_count": null,
      "id": "GydYdAlemoX3",
      "metadata": {
        "colab": {
          "base_uri": "https://localhost:8080/"
        },
        "id": "GydYdAlemoX3",
        "outputId": "34fc96d3-210b-40b8-9d08-fc6e255115aa"
      },
      "outputs": [
        {
          "name": "stdout",
          "output_type": "stream",
          "text": [
            "Original Data Series:\n",
            "0    400.00\n",
            "1    300.12\n",
            "2    100.00\n",
            "3    200.00\n",
            "dtype: float64\n",
            "2    100.00\n",
            "3    200.00\n",
            "1    300.12\n",
            "0    400.00\n",
            "dtype: float64\n"
          ]
        }
      ],
      "source": [
        "#3\n",
        "import pandas as pd\n",
        "s = pd.Series([400, 300.12,100, 200])\n",
        "print(\"Original Data Series:\")\n",
        "print(s)\n",
        "new_s = pd.Series(s).sort_values()\n",
        "print(new_s)\n"
      ]
    },
    {
      "cell_type": "code",
      "execution_count": null,
      "id": "LOMhVgN8mocX",
      "metadata": {
        "colab": {
          "base_uri": "https://localhost:8080/"
        },
        "id": "LOMhVgN8mocX",
        "outputId": "a4673dc3-9ada-434e-93b1-de0e0038d392"
      },
      "outputs": [
        {
          "name": "stdout",
          "output_type": "stream",
          "text": [
            "Original Data Series:\n",
            "A    1\n",
            "B    2\n",
            "C    3\n",
            "dtype: int64\n",
            "Data Series after changing the order of index:\n",
            "B    2\n",
            "A    1\n",
            "C    3\n",
            "dtype: int64\n"
          ]
        }
      ],
      "source": [
        "#4\n",
        "import pandas as pd\n",
        "s = pd.Series(data = [1,2,3], index = ['A', 'B', 'C'])\n",
        "print(\"Original Data Series:\")\n",
        "print(s)\n",
        "s = s.reindex(index = ['B','A','C'])\n",
        "print(\"Data Series after changing the order of index:\")\n",
        "print(s)\n"
      ]
    },
    {
      "cell_type": "code",
      "execution_count": null,
      "id": "nTjLSSOvmokg",
      "metadata": {
        "colab": {
          "base_uri": "https://localhost:8080/"
        },
        "id": "nTjLSSOvmokg",
        "outputId": "ec480eab-ad23-4692-d479-7e42bd07b7b4"
      },
      "outputs": [
        {
          "name": "stdout",
          "output_type": "stream",
          "text": [
            "Original Series:\n",
            "sr1:\n",
            "0    1\n",
            "1    2\n",
            "2    3\n",
            "dtype: int64\n",
            "sr2:\n",
            "0    2\n",
            "1    3\n",
            "2    6\n",
            "dtype: int64\n",
            "\n",
            "Items of a given series not present in another given series:\n",
            "0    1\n",
            "3    6\n",
            "dtype: int64\n"
          ]
        }
      ],
      "source": [
        "#5\n",
        "import pandas as pd\n",
        "import numpy as np\n",
        "sr1 = pd.Series([1, 2, 3])\n",
        "sr2 = pd.Series([2, 3, 6])\n",
        "print(\"Original Series:\")\n",
        "print(\"sr1:\")\n",
        "print(sr1)\n",
        "print(\"sr2:\")\n",
        "print(sr2)\n",
        "print(\"\\nItems of a given series not present in another given series:\")\n",
        "sr11 = pd.Series(np.union1d(sr1, sr2))\n",
        "sr22 = pd.Series(np.intersect1d(sr1, sr2))\n",
        "result = sr11[~sr11.isin(sr22)]\n",
        "print(result)"
      ]
    },
    {
      "cell_type": "code",
      "execution_count": null,
      "id": "2YqV_6gmmopC",
      "metadata": {
        "colab": {
          "base_uri": "https://localhost:8080/"
        },
        "id": "2YqV_6gmmopC",
        "outputId": "7dc4de07-8f9e-496a-cb85-5c598287c582"
      },
      "outputs": [
        {
          "name": "stdout",
          "output_type": "stream",
          "text": [
            "         name  score\n",
            "NAME   Manish   12.5\n",
            "SCORE  Dhiraj    9.0\n"
          ]
        }
      ],
      "source": [
        "#6\n",
        "import pandas as pd\n",
        "import numpy as np\n",
        "exam_data = {'name': ['Manish', 'Dhiraj'],\n",
        "'score': [12.5, 9]}\n",
        "labels = ['NAME', 'SCORE']\n",
        "df = pd.DataFrame(exam_data , index=labels)\n",
        "print(df)\n"
      ]
    },
    {
      "cell_type": "code",
      "execution_count": null,
      "id": "aBAnzJFFmosv",
      "metadata": {
        "colab": {
          "base_uri": "https://localhost:8080/"
        },
        "id": "aBAnzJFFmosv",
        "outputId": "9be12bb7-e7c2-4580-87cd-2a4b5d9b078c"
      },
      "outputs": [
        {
          "name": "stdout",
          "output_type": "stream",
          "text": [
            "First three rows of the data frame:\n",
            "     name  score\n",
            "0  Manish   12.5\n",
            "1  Dhiraj   91.0\n",
            "2     Man    2.5\n"
          ]
        }
      ],
      "source": [
        "#7\n",
        "import pandas as pd\n",
        "import numpy as np\n",
        "exam_data = {'name': ['Manish', 'Dhiraj','Man', 'Dhir'],\n",
        "'score': [12.5, 91,2.5, 9]}\n",
        "df = pd.DataFrame(exam_data )\n",
        "print(\"First three rows of the data frame:\")\n",
        "print(df.iloc[:3]) #print(df.head(3))"
      ]
    },
    {
      "cell_type": "code",
      "execution_count": null,
      "id": "sY2BNQDUmoxH",
      "metadata": {
        "colab": {
          "base_uri": "https://localhost:8080/"
        },
        "id": "sY2BNQDUmoxH",
        "outputId": "9aa9fc80-f3eb-408d-827d-a5bc69b47dca"
      },
      "outputs": [
        {
          "name": "stdout",
          "output_type": "stream",
          "text": [
            "Number of Rows: 4\n",
            "Number of Columns: 2\n"
          ]
        }
      ],
      "source": [
        "#8\n",
        "import pandas as pd\n",
        "import numpy as np\n",
        "exam_data = {'name': ['Manish', 'Dhiraj','Man', 'Dhir'],\n",
        "'score': [12.5, 91,2.5, 9]}\n",
        "df = pd.DataFrame(exam_data )\n",
        "total_rows=len(df.axes[0])\n",
        "total_cols=len(df.axes[1])\n",
        "print(\"Number of Rows: \"+str(total_rows))\n",
        "print(\"Number of Columns: \"+str(total_cols))\n"
      ]
    },
    {
      "cell_type": "code",
      "execution_count": null,
      "id": "KWaEBQ5zmo0y",
      "metadata": {
        "colab": {
          "base_uri": "https://localhost:8080/"
        },
        "id": "KWaEBQ5zmo0y",
        "outputId": "58190872-e47f-4dcc-a648-349220b542d8"
      },
      "outputs": [
        {
          "name": "stdout",
          "output_type": "stream",
          "text": [
            "Rows where score between 15 and 20 (inclusive):\n",
            "   name  score\n",
            "3  Dhir   19.0\n"
          ]
        }
      ],
      "source": [
        "#9\n",
        "import pandas as pd\n",
        "import numpy as np\n",
        "exam_data = {'name': ['Manish', 'Dhiraj','Man', 'Dhir'],\n",
        "'score': [12.5, 91,20.5, 19]}\n",
        "df = pd.DataFrame(exam_data )\n",
        "print(\"Rows where score between 15 and 20 (inclusive):\")\n",
        "print(df[df['score'].between(15, 20)])\n"
      ]
    },
    {
      "cell_type": "code",
      "execution_count": null,
      "id": "Hf7XQy5jmo4K",
      "metadata": {
        "colab": {
          "base_uri": "https://localhost:8080/"
        },
        "id": "Hf7XQy5jmo4K",
        "outputId": "308ad67b-e521-4fcb-c10a-f5ed6daea269"
      },
      "outputs": [
        {
          "name": "stdout",
          "output_type": "stream",
          "text": [
            "Sort the data frame first by ‘name’ in descending order, then by ‘score’ in ascending order:\n",
            "     name  score\n",
            "3    Dhir   19.0\n",
            "1  Dhiraj   91.0\n",
            "2     Man   20.5\n",
            "0  Manish   12.5\n"
          ]
        }
      ],
      "source": [
        "#10\n",
        "import pandas as pd\n",
        "import numpy as np\n",
        "exam_data = {'name': ['Manish', 'Dhiraj','Man', 'Dhir'],\n",
        "'score': [12.5, 91,20.5, 19]}\n",
        "df = pd.DataFrame(exam_data )\n",
        "result_sort=df.sort_values(by=['name', 'score'], ascending=[True,False])\n",
        "print(\"Sort the data frame first by ‘name’ in descending order, then by ‘score’ in ascending order:\")\n",
        "print(result_sort)"
      ]
    },
    {
      "cell_type": "code",
      "execution_count": null,
      "id": "p2GrAD2dmo72",
      "metadata": {
        "colab": {
          "base_uri": "https://localhost:8080/"
        },
        "id": "p2GrAD2dmo72",
        "outputId": "b66f0059-c195-4a6a-aca9-5e5287a8b840"
      },
      "outputs": [
        {
          "name": "stdout",
          "output_type": "stream",
          "text": [
            "     name  score\n",
            "0   Anish   12.5\n",
            "1  Dhiraj   91.0\n",
            "2     Man   20.5\n",
            "3    Dhir   19.0\n"
          ]
        }
      ],
      "source": [
        "#11\n",
        "import pandas as pd\n",
        "import numpy as np\n",
        "exam_data = {'name': ['Manish', 'Dhiraj','Man', 'Dhir'],\n",
        "'score': [12.5, 91,20.5, 19]}\n",
        "df = pd.DataFrame(exam_data )\n",
        "df['name'] = df['name'].replace('Manish', 'Anish')\n",
        "print(df)\n"
      ]
    },
    {
      "cell_type": "code",
      "execution_count": null,
      "id": "eLVUW_wQmo_J",
      "metadata": {
        "colab": {
          "base_uri": "https://localhost:8080/"
        },
        "id": "eLVUW_wQmo_J",
        "outputId": "2a072d66-e45d-4711-f669-f2e108913b73"
      },
      "outputs": [
        {
          "name": "stdout",
          "output_type": "stream",
          "text": [
            "\n",
            "New DataFrame after inserting the 'medium' column\n",
            "     name  score   medium\n",
            "0  Manish   12.5  english\n",
            "1  Dhiraj   91.0    hindi\n",
            "2     Man   20.5    hindi\n",
            "3    Dhir   19.0  english\n"
          ]
        }
      ],
      "source": [
        "#12\n",
        "import pandas as pd\n",
        "import numpy as np\n",
        "exam_data = {'name': ['Manish', 'Dhiraj','Man', 'Dhir'],\n",
        "'score': [12.5, 91,20.5, 19]}\n",
        "df = pd.DataFrame(exam_data )\n",
        "medium = ['english','hindi','hindi','english']\n",
        "df['medium'] = medium\n",
        "print(\"\\nNew DataFrame after inserting the 'medium' column\")\n",
        "print(df)\n"
      ]
    },
    {
      "cell_type": "code",
      "execution_count": null,
      "id": "CQOpgVmCmpCc",
      "metadata": {
        "colab": {
          "base_uri": "https://localhost:8080/"
        },
        "id": "CQOpgVmCmpCc",
        "outputId": "292084e5-dde4-4b20-9a9a-32abcc66687a"
      },
      "outputs": [
        {
          "name": "stdout",
          "output_type": "stream",
          "text": [
            "New DataFrame after renaming columns:\n",
            "     NAME  SCORE\n",
            "0  Manish   12.5\n",
            "1  Dhiraj   91.0\n",
            "2     Man   20.5\n",
            "3    Dhir   19.0\n"
          ]
        }
      ],
      "source": [
        "#13\n",
        "import pandas as pd\n",
        "\n",
        "exam_data = {'name': ['Manish', 'Dhiraj','Man', 'Dhir'],\n",
        "'score': [12.5, 91,20.5, 19]}\n",
        "df = pd.DataFrame(exam_data )\n",
        "df = df.rename(columns={'name': 'NAME', 'score': 'SCORE'})\n",
        "print(\"New DataFrame after renaming columns:\")\n",
        "print(df)"
      ]
    },
    {
      "cell_type": "code",
      "execution_count": null,
      "id": "TIGnTNoRmpGI",
      "metadata": {
        "colab": {
          "base_uri": "https://localhost:8080/"
        },
        "id": "TIGnTNoRmpGI",
        "outputId": "cc5ad623-ed83-4388-b0d3-3782d2fa6fdd"
      },
      "outputs": [
        {
          "name": "stdout",
          "output_type": "stream",
          "text": [
            "New DataFrame\n",
            "     name  score\n",
            "1  Dhiraj   91.0\n",
            "2     Man   20.5\n"
          ]
        }
      ],
      "source": [
        "#14\n",
        "import pandas as pd\n",
        "import numpy as np\n",
        "exam_data = {'name': ['Manish', 'Dhiraj','Man', 'Dhir'],\n",
        "'score': [12.5, 91,20.5, 19]}\n",
        "df = pd.DataFrame(exam_data )\n",
        "df = df[df.score >= 20]\n",
        "print(\"New DataFrame\")\n",
        "print(df)"
      ]
    },
    {
      "cell_type": "code",
      "execution_count": null,
      "id": "SGM62OQWmpJn",
      "metadata": {
        "colab": {
          "base_uri": "https://localhost:8080/"
        },
        "id": "SGM62OQWmpJn",
        "outputId": "a6a07d6e-44fd-4839-d5b3-2b6f8d99b6d0"
      },
      "outputs": [
        {
          "name": "stdout",
          "output_type": "stream",
          "text": [
            "Data Series:\n",
            "0    100\n",
            "1    200\n",
            "2    400\n",
            "dtype: object\n",
            "0    10\n",
            "1    20\n",
            "2    40\n",
            "dtype: object\n",
            "New DataFrame combining two series:\n",
            "     0   1\n",
            "0  100  10\n",
            "1  200  20\n",
            "2  400  40\n"
          ]
        }
      ],
      "source": [
        "#15\n",
        "import pandas as pd\n",
        "import numpy as np\n",
        "s1 = pd.Series(['100', '200', '400'])\n",
        "s2 = pd.Series(['10', '20', '40'])\n",
        "print(\"Data Series:\")\n",
        "print(s1)\n",
        "print(s2)\n",
        "df = pd.concat([s1, s2], axis=1)\n",
        "print(\"New DataFrame combining two series:\")\n",
        "print(df)"
      ]
    },
    {
      "cell_type": "code",
      "execution_count": null,
      "id": "sg_laaB6G5a-",
      "metadata": {
        "colab": {
          "base_uri": "https://localhost:8080/"
        },
        "id": "sg_laaB6G5a-",
        "outputId": "a5162701-3236-4ee4-a2b0-7a1ce33c3e70"
      },
      "outputs": [
        {
          "name": "stdout",
          "output_type": "stream",
          "text": [
            "Value of Row4\n",
            "0    400\n",
            "1     40\n",
            "Name: 2, dtype: object\n"
          ]
        }
      ],
      "source": [
        "#16th program\n",
        "import pandas as pd\n",
        "import numpy as np\n",
        "s1 = pd.Series(['100', '200', '400'])\n",
        "s2 = pd.Series(['10', '20', '40'])\n",
        "df = pd.concat([s1, s2], axis=1)\n",
        "print(\"Value of Row4\")\n",
        "print(df.iloc[2])\n"
      ]
    },
    {
      "cell_type": "code",
      "execution_count": null,
      "id": "pPiwbJ0lHDq_",
      "metadata": {
        "colab": {
          "base_uri": "https://localhost:8080/"
        },
        "id": "pPiwbJ0lHDq_",
        "outputId": "4f014a8e-6cb4-4807-cfec-0544f6b2e404"
      },
      "outputs": [
        {
          "name": "stdout",
          "output_type": "stream",
          "text": [
            "\n",
            "New DataFrame\n",
            "   1    0   1\n",
            "0  1  100  10\n",
            "1  2  200  20\n",
            "2  3  400  40\n"
          ]
        }
      ],
      "source": [
        "\n",
        "#17th program\n",
        "import pandas as pd\n",
        "import numpy as np\n",
        "s1 = pd.Series(['100', '200', '400'])\n",
        "s2 = pd.Series(['10', '20', '40'])\n",
        "df = pd.concat([s1, s2], axis=1)\n",
        "new_col = [1, 2, 3]\n",
        "# insert the said column at the beginning in the DataFrame\n",
        "idx = 0\n",
        "df.insert(loc=idx, column='1', value=new_col)\n",
        "print(\"\\nNew DataFrame\")\n",
        "print(df)"
      ]
    },
    {
      "cell_type": "code",
      "execution_count": null,
      "id": "5Qyxpk5hds7H",
      "metadata": {
        "colab": {
          "base_uri": "https://localhost:8080/"
        },
        "id": "5Qyxpk5hds7H",
        "outputId": "6b2d6868-f002-4c92-83c3-92254aa416e8"
      },
      "outputs": [
        {
          "name": "stdout",
          "output_type": "stream",
          "text": [
            "10\n",
            "2.5\n",
            "1    20\n",
            "2    30\n",
            "dtype: int64\n",
            "0    20\n",
            "1    30\n",
            "2    40\n",
            "3    50\n",
            "dtype: int64\n",
            "0    12\n",
            "1    22\n",
            "2    32\n",
            "3    42\n",
            "dtype: int64\n",
            "2    30\n",
            "3    40\n",
            "dtype: int64\n",
            "a    101.5\n",
            "b    202.5\n",
            "c    303.5\n",
            "dtype: float64\n",
            "25.0\n",
            "40\n"
          ]
        }
      ],
      "source": [
        "# Creating a pandas series\n",
        "import pandas as pd\n",
        "S1=pd.Series([10,20,30,40])\n",
        "S2=pd.Series([1.5,2.5,3.5], index =['a','b','c'])\n",
        "S3=pd.Series({'maths':85,'science': 90,'english':72})\n",
        "print(S1[0])\n",
        "print(S2['b'])\n",
        "print(S1[1:3])\n",
        "print(S1+10)\n",
        "print(S1+2)\n",
        "print(S1[S1>20])\n",
        "S4=pd.Series([100,200,300],index=['a','b','c'])\n",
        "print(S2+S4)\n",
        "print(S1.mean())\n",
        "print(S1.max())"
      ]
    },
    {
      "cell_type": "code",
      "execution_count": null,
      "id": "9KiN-5fAiBP1",
      "metadata": {
        "colab": {
          "base_uri": "https://localhost:8080/"
        },
        "id": "9KiN-5fAiBP1",
        "outputId": "c960adef-a74b-49fe-db02-75e62c534db3"
      },
      "outputs": [
        {
          "name": "stdout",
          "output_type": "stream",
          "text": [
            "    Name  Age      City\n",
            "0   Rupa   25  Bagalkot\n",
            "1   Sita   30   Solapur\n",
            "2  Geeta   35  Gulbarga\n"
          ]
        }
      ],
      "source": [
        "#questions on pandas\n",
        "import pandas as pd\n",
        "data ={'Name':['Rupa','Sita','Geeta'],\n",
        "       'Age':[25,30,35],\n",
        "       'City':['Bagalkot','Solapur','Gulbarga']}\n",
        "df=pd.DataFrame(data)\n",
        "print(df)"
      ]
    },
    {
      "cell_type": "code",
      "execution_count": null,
      "id": "0cfOn-PWt_mi",
      "metadata": {
        "colab": {
          "base_uri": "https://localhost:8080/"
        },
        "id": "0cfOn-PWt_mi",
        "outputId": "6f458d94-bc53-4b45-9e5b-241c970acd0a"
      },
      "outputs": [
        {
          "name": "stdout",
          "output_type": "stream",
          "text": [
            "it sorts the dataframe of Age in Ascending order\n",
            "    Name  Age      City\n",
            "0   Rupa   25  Bagalkot\n",
            "1   Sita   30   Solapur\n",
            "2  Geeta   35  Gulbarga\n"
          ]
        }
      ],
      "source": [
        "import pandas as pd\n",
        "data ={'Name':['Rupa','Sita','Geeta'],\n",
        "       'Age':[25,30,35],\n",
        "       'City':['Bagalkot','Solapur','Gulbarga']}\n",
        "df=pd.DataFrame(data)\n",
        "result_sort=df.sort_values(by=['Age'],ascending=[True])\n",
        "print(\"it sorts the dataframe of Age in Ascending order\")\n",
        "print(df)"
      ]
    },
    {
      "cell_type": "code",
      "execution_count": null,
      "id": "CCOvSsoqzE0_",
      "metadata": {
        "colab": {
          "base_uri": "https://localhost:8080/"
        },
        "id": "CCOvSsoqzE0_",
        "outputId": "b7093442-5ae7-46e6-eb8c-1777248f7384"
      },
      "outputs": [
        {
          "name": "stdout",
          "output_type": "stream",
          "text": [
            "    Name  Age      City  Salary\n",
            "0   Rupa   25  Bagalkot   50000\n",
            "1   Sita   30   Solapur   60000\n",
            "2  Geeta   35  Gulbarga   70000\n"
          ]
        }
      ],
      "source": [
        "import pandas as pd\n",
        "data ={'Name':['Rupa','Sita','Geeta'],\n",
        "       'Age':[25,30,35],\n",
        "       'City':['Bagalkot','Solapur','Gulbarga']}\n",
        "df=pd.DataFrame(data)\n",
        "Salary=[50000,60000,70000]\n",
        "df['Salary']=Salary\n",
        "print(df)"
      ]
    },
    {
      "cell_type": "code",
      "execution_count": null,
      "id": "Q6ZOvVd0zkqI",
      "metadata": {
        "colab": {
          "base_uri": "https://localhost:8080/"
        },
        "id": "Q6ZOvVd0zkqI",
        "outputId": "12745df8-4466-454b-dbce-13a435c8438c"
      },
      "outputs": [
        {
          "name": "stdout",
          "output_type": "stream",
          "text": [
            "[0    False\n",
            "1    False\n",
            "2     True\n",
            "Name: Age, dtype: bool]\n"
          ]
        }
      ],
      "source": [
        "import pandas as pd\n",
        "data ={'Name':['Rupa','Sita','Geeta'],\n",
        "       'Age':[25,30,35],\n",
        "       'City':['Bagalkot','Solapur','Gulbarga']}\n",
        "df=pd.DataFrame(data)\n",
        "df=[df['Age']>30]\n",
        "print(df)"
      ]
    },
    {
      "cell_type": "code",
      "execution_count": null,
      "id": "1PAQWtExzwig",
      "metadata": {
        "colab": {
          "base_uri": "https://localhost:8080/"
        },
        "id": "1PAQWtExzwig",
        "outputId": "a8ba76bc-fec8-4ef3-da47-b40f51c1972b"
      },
      "outputs": [
        {
          "name": "stdout",
          "output_type": "stream",
          "text": [
            "True\n"
          ]
        }
      ],
      "source": [
        "import pandas as pd\n",
        "data ={'Name':['Rupa','Sita','Geeta'],\n",
        "       'Age':[25,30,35],\n",
        "       'City':['Bagalkot','Solapur','Gulbarga']}\n",
        "df=pd.DataFrame(data)\n",
        "df='Bagalkot' in df ['City'].values\n",
        "print(df)"
      ]
    },
    {
      "cell_type": "code",
      "execution_count": null,
      "id": "R-af1JJ0uDtR",
      "metadata": {
        "colab": {
          "base_uri": "https://localhost:8080/"
        },
        "id": "R-af1JJ0uDtR",
        "outputId": "ad6f4b43-877b-44b6-e238-5b765d6ab73f"
      },
      "outputs": [
        {
          "name": "stdout",
          "output_type": "stream",
          "text": [
            "   Name  Age     City\n",
            "1  Sita   30  Solapur\n"
          ]
        }
      ],
      "source": [
        "import pandas as pd\n",
        "data ={'Name':['Rupa','Sita','Geeta'],\n",
        "       'Age':[25,30,35],\n",
        "       'City':['Bagalkot','Solapur','Gulbarga']}\n",
        "df=pd.DataFrame(data)\n",
        "df=df[df['Name'] == 'Sita']\n",
        "print(df)"
      ]
    },
    {
      "cell_type": "code",
      "execution_count": null,
      "id": "jYsKyGEFvaqJ",
      "metadata": {
        "colab": {
          "base_uri": "https://localhost:8080/"
        },
        "id": "jYsKyGEFvaqJ",
        "outputId": "a697d032-cfc4-4496-92de-1b6a4166334b"
      },
      "outputs": [
        {
          "name": "stdout",
          "output_type": "stream",
          "text": [
            "City\n",
            "Bagalkot    1\n",
            "Solapur     1\n",
            "Gulbarga    1\n",
            "Name: count, dtype: int64\n"
          ]
        }
      ],
      "source": [
        "import pandas as pd\n",
        "data ={'Name':['Rupa','Sita','Geeta'],\n",
        "       'Age':[25,30,35],\n",
        "       'City':['Bagalkot','Solapur','Gulbarga']}\n",
        "df=pd.DataFrame(data)\n",
        "City_counts=df['City'].value_counts()\n",
        "print(City_counts)"
      ]
    },
    {
      "cell_type": "code",
      "execution_count": null,
      "id": "ApOSkpeayDSE",
      "metadata": {
        "colab": {
          "base_uri": "https://localhost:8080/"
        },
        "id": "ApOSkpeayDSE",
        "outputId": "4b8c06bb-1160-4958-a9fb-e37457495bd2"
      },
      "outputs": [
        {
          "name": "stdout",
          "output_type": "stream",
          "text": [
            "    Name  Age      City  Salary\n",
            "2  Geeta   35  Gulbarga   70000\n"
          ]
        }
      ],
      "source": [
        "import pandas as pd\n",
        "data ={'Name':['Rupa','Sita','Geeta'],\n",
        "       'Age':[25,30,35],\n",
        "       'City':['Bagalkot','Solapur','Gulbarga'],\n",
        "       'Salary':[50000,60000,70000]}\n",
        "df=pd.DataFrame(data)\n",
        "high_salary=df[df['Salary']==df['Salary'].max()]\n",
        "print(high_salary)"
      ]
    },
    {
      "cell_type": "code",
      "execution_count": null,
      "id": "wpwYQ7wYDMJW",
      "metadata": {
        "colab": {
          "base_uri": "https://localhost:8080/"
        },
        "id": "wpwYQ7wYDMJW",
        "outputId": "b45454ed-eb22-4db1-f669-02c258cefd98"
      },
      "outputs": [
        {
          "name": "stdout",
          "output_type": "stream",
          "text": [
            "Series s1:\n",
            "0     5\n",
            "1    10\n",
            "2    15\n",
            "3    20\n",
            "4    25\n",
            "dtype: int64\n",
            "\n",
            "2. Series with custom index:\n",
            "a     5\n",
            "b    10\n",
            "c    15\n",
            "d    20\n",
            "e    25\n",
            "dtype: int64\n",
            "\n",
            "3. Element at index 'c': 15\n",
            "\n",
            "4. Maximum value in s1: 25\n",
            "\n",
            "5. Series after adding 5 to each element:\n",
            "a    10\n",
            "b    15\n",
            "c    20\n",
            "d    25\n",
            "e    30\n",
            "dtype: int64\n",
            "\n",
            "6. Price Series:\n",
            "apple     50\n",
            "banana    30\n",
            "cherry    20\n",
            "dtype: int64\n",
            "\n",
            "7. Fruits with price > 25:\n",
            "apple     50\n",
            "banana    30\n",
            "dtype: int64\n",
            "\n",
            "8. Prices after 20% increase:\n",
            "apple     60.0\n",
            "banana    36.0\n",
            "cherry    24.0\n",
            "dtype: float64\n",
            "\n",
            "9. Total prices after adding new_prices:\n",
            "apple      NaN\n",
            "banana    40.0\n",
            "cherry    25.0\n",
            "date       NaN\n",
            "dtype: float64\n",
            "Explanation: Values are added by matching keys. If a key is missing in one, result is None.\n",
            "\n",
            "10. Mean of marks: 79.6\n",
            "Std deviation of marks: 11.326958991715296\n",
            "\n",
            "11. Total marks for each student:\n",
            "Yash       173\n",
            "Alok       167\n",
            "Charlie    182\n",
            "dtype: int64\n",
            "\n",
            "12. Months extracted from timestamps:\n",
            "0    4\n",
            "1    7\n",
            "dtype: int32\n",
            "\n",
            "13. Index of max value in s1: e\n"
          ]
        }
      ],
      "source": [
        "import pandas as pd\n",
        "\n",
        "# 1. \tCreate a Pandas Series of 5 elements: [5, 10, 15, 20, 25]\n",
        "s1 = pd.Series([5, 10, 15, 20, 25])\n",
        "print(\"Series s1:\")\n",
        "print(s1)\n",
        "\n",
        "# 2. Assign custom index ['a', 'b', 'c', 'd', 'e'] to the above Series.\n",
        "s1.index = ['a', 'b', 'c', 'd', 'e']\n",
        "print(\"\\n2. Series with custom index:\")\n",
        "print(s1)\n",
        "\n",
        "# 3 Access the element at index 'c'.\n",
        "print(\"\\n3. Element at index 'c':\", s1['c'])\n",
        "\n",
        "# 4.\tFind the maximum value in the Series.\n",
        "print(\"\\n4. Maximum value in s1:\", s1.max())\n",
        "\n",
        "# 5.\tAdd 5 to each element of the Series.\n",
        "print(\"\\n5. Series after adding 5 to each element:\")\n",
        "print(s1 + 5)\n",
        "\n",
        "# 6.\tCreate a Series using a dictionary: {'apple': 50, 'banana': 30, 'cherry': 20}\n",
        "prices = pd.Series({'apple': 50, 'banana': 30, 'cherry': 20})\n",
        "print(\"\\n6. Price Series:\")\n",
        "print(prices)\n",
        "\n",
        "# 7. Filter the Series to show only fruits with price > 25.\n",
        "print(\"\\n7. Fruits with price > 25:\")\n",
        "print(prices[prices > 25])\n",
        "\n",
        "#8.\tMultiply all prices by 1.2 (simulate a 20% price increase).\n",
        "print(\"\\n8. Prices after 20% increase:\")\n",
        "print(prices * 1.2)\n",
        "\n",
        "# 9.Add another Series {'banana': 10, 'cherry': 5, 'date': 15} to the above and explain the result.\n",
        "new_prices = pd.Series({'banana': 10, 'cherry': 5, 'date': 15})\n",
        "total_prices = prices + new_prices\n",
        "print(\"\\n9. Total prices after adding new_prices:\")\n",
        "print(total_prices)\n",
        "print(\"Explanation: Values are added by matching keys. If a key is missing in one, result is None.\")\n",
        "\n",
        "# 10.\tFind the mean and standard deviation of a Series of numbers.\n",
        "marks = pd.Series([70, 85, 90, 65, 88])\n",
        "print(\"\\n10. Mean of marks:\", marks.mean())\n",
        "print(\"Std deviation of marks:\", marks.std())\n",
        "\n",
        "# 11.\tTwo Series contain student marks in two subjects. How do you compute the total marks for each student?\n",
        "sub1 = pd.Series({'Yash': 85, 'Alok': 78, 'Charlie': 92})\n",
        "sub2 = pd.Series({'Yash': 88, 'Alok': 89, 'Charlie': 90})\n",
        "total_marks = sub1 + sub2\n",
        "print(\"\\n11. Total marks for each student:\")\n",
        "print(total_marks)\n",
        "\n",
        "# 12.\tYou have a Series of timestamps. How can you extract only the months?\n",
        "dates = pd.Series(pd.to_datetime(['2025-04-22', '2025-07-10']))\n",
        "months = dates.dt.month\n",
        "print(\"\\n12. Months extracted from timestamps:\")\n",
        "print(months)\n",
        "\n",
        "# 13.\tFind the index of the maximum value in a Series.\n",
        "print(\"\\n13. Index of max value in s1:\", s1.idxmax())"
      ]
    },
    {
      "cell_type": "code",
      "execution_count": null,
      "id": "2340e670",
      "metadata": {},
      "outputs": [],
      "source": [
        "\"hi\""
      ]
    },
    {
      "cell_type": "code",
      "execution_count": null,
      "id": "ffaa5568",
      "metadata": {},
      "outputs": [],
      "source": [
        "print(\"h\")"
      ]
    }
  ],
  "metadata": {
    "colab": {
      "provenance": []
    },
    "kernelspec": {
      "display_name": "Python 3 (ipykernel)",
      "language": "python",
      "name": "python3"
    },
    "language_info": {
      "codemirror_mode": {
        "name": "ipython",
        "version": 3
      },
      "file_extension": ".py",
      "mimetype": "text/x-python",
      "name": "python",
      "nbconvert_exporter": "python",
      "pygments_lexer": "ipython3",
      "version": "3.13.5"
    }
  },
  "nbformat": 4,
  "nbformat_minor": 5
}
