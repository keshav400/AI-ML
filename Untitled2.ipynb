{
  "nbformat": 4,
  "nbformat_minor": 0,
  "metadata": {
    "colab": {
      "provenance": [],
      "authorship_tag": "ABX9TyMmko/J9F99cMapngNvzPvR",
      "include_colab_link": true
    },
    "kernelspec": {
      "name": "python3",
      "display_name": "Python 3"
    },
    "language_info": {
      "name": "python"
    }
  },
  "cells": [
    {
      "cell_type": "markdown",
      "metadata": {
        "id": "view-in-github",
        "colab_type": "text"
      },
      "source": [
        "<a href=\"https://colab.research.google.com/github/keshav400/AI-ML/blob/main/Untitled2.ipynb\" target=\"_parent\"><img src=\"https://colab.research.google.com/assets/colab-badge.svg\" alt=\"Open In Colab\"/></a>"
      ]
    },
    {
      "cell_type": "code",
      "execution_count": 3,
      "metadata": {
        "colab": {
          "base_uri": "https://localhost:8080/"
        },
        "id": "3TO9t0KlfmDn",
        "outputId": "3ed15424-c49e-4f18-a791-028fd06f37fa"
      },
      "outputs": [
        {
          "output_type": "stream",
          "name": "stdout",
          "text": [
            "[(AI, is), (is, simulation), (simulation, of), (of, human), (human, intelligence), (intelligence, by), (by, machine), (machine, .), (., It), (It, includes), (includes, expects), (expects, system), (system, NLP), (NLP, speech), (speech, recognition), (recognition, and), (and, machine), (machine, vision)]\n"
          ]
        }
      ],
      "source": [
        "import spacy\n",
        "from nltk import ngrams\n",
        "nlp=spacy.load(\"en_core_web_sm\")\n",
        "doc=nlp(\"AI is simulation of human intelligence by machine. It includes expects system NLP speech recognition and machine vision\")\n",
        "bigrams=ngrams(doc,2)\n",
        "print(list(bigrams))"
      ]
    }
  ]
}